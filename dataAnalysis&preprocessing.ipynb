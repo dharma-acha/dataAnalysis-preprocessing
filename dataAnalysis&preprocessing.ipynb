{
 "cells": [
  {
   "cell_type": "markdown",
   "metadata": {},
   "source": [
    "***Penguin Dataset Data Preprocessing***"
   ]
  },
  {
   "cell_type": "markdown",
   "metadata": {},
   "source": [
    "**Importing libraries**"
   ]
  },
  {
   "cell_type": "code",
   "execution_count": 1,
   "metadata": {},
   "outputs": [],
   "source": [
    "#Importing Libraries\n",
    "import pandas as pd\n",
    "import seaborn as sns\n",
    "import matplotlib.pyplot as plt\n",
    "import numpy as np"
   ]
  },
  {
   "cell_type": "markdown",
   "metadata": {},
   "source": [
    "**Reading data and handling mismatched string formats**"
   ]
  },
  {
   "cell_type": "code",
   "execution_count": 2,
   "metadata": {},
   "outputs": [
    {
     "data": {
      "text/plain": [
       "array(['Adelie', 'adelie', nan, 'Gentoo', 'gentoo', 'GENTOO', 'Chinstrap',\n",
       "       'CHINSTRAP', 'chinstrap'], dtype=object)"
      ]
     },
     "metadata": {},
     "output_type": "display_data"
    },
    {
     "data": {
      "text/plain": [
       "array(['Torgersen', 'Biscoe', nan, 'Dream', 'torgersen', 'biscoe',\n",
       "       'BISCOE', 'dream', 'DREAM'], dtype=object)"
      ]
     },
     "metadata": {},
     "output_type": "display_data"
    },
    {
     "data": {
      "text/plain": [
       "array(['male', 'female', nan, 'FEMALE', 'MALE'], dtype=object)"
      ]
     },
     "metadata": {},
     "output_type": "display_data"
    },
    {
     "data": {
      "text/plain": [
       "array([2007., 2008., 2009.,   nan])"
      ]
     },
     "metadata": {},
     "output_type": "display_data"
    }
   ],
   "source": [
    "#Reading the data\n",
    "df = pd.read_csv(r'/Users/adarshreddy/Downloads/noisy_datasets/penguins.csv')\n",
    "\n",
    "#Cleaning categorial columns\n",
    "\n",
    "display(df['species'].unique())\n",
    "display(df['island'].unique())\n",
    "display(df['gender'].unique())\n",
    "display(df['year'].unique())\n",
    "\n",
    "#Convert strings to lower lase to avoid case senstivity issues.\n",
    "df['species']=df['species'].str.lower()\n",
    "df['island']=df['island'].str.lower()\n",
    "df['gender']=df['gender'].str.lower()"
   ]
  },
  {
   "cell_type": "code",
   "execution_count": 3,
   "metadata": {},
   "outputs": [
    {
     "name": "stdout",
     "output_type": "stream",
     "text": [
      "count of null values\n",
      "39\n",
      "species                   11\n",
      "island                    10\n",
      "calorie requirement        0\n",
      "average sleep duration     0\n",
      "bill_length_mm             7\n",
      "bill_depth_mm             11\n",
      "flipper_length_mm          8\n",
      "body_mass_g                5\n",
      "gender                    17\n",
      "year                       2\n",
      "dtype: int64\n"
     ]
    }
   ],
   "source": [
    "#checking rows with null values\n",
    "print(\"count of null values\")\n",
    "rows_with_null = df.isnull().sum(axis=1)\n",
    "print(len(rows_with_null[rows_with_null > 0]))\n",
    "\n",
    "mis_values = (df.isnull().sum())\n",
    "print(mis_values)"
   ]
  },
  {
   "cell_type": "markdown",
   "metadata": {},
   "source": [
    "**Key Statistics**\n"
   ]
  },
  {
   "cell_type": "code",
   "execution_count": 4,
   "metadata": {},
   "outputs": [
    {
     "data": {
      "text/plain": [
       "calorie requirement       5270.002907\n",
       "average sleep duration      10.447674\n",
       "bill_length_mm              45.494214\n",
       "bill_depth_mm               18.018318\n",
       "flipper_length_mm          197.764881\n",
       "body_mass_g               4175.463127\n",
       "dtype: float64"
      ]
     },
     "metadata": {},
     "output_type": "display_data"
    },
    {
     "data": {
      "text/plain": [
       "calorie requirement       5106.5\n",
       "average sleep duration      10.0\n",
       "bill_length_mm              45.1\n",
       "bill_depth_mm               17.3\n",
       "flipper_length_mm          197.0\n",
       "body_mass_g               4050.0\n",
       "dtype: float64"
      ]
     },
     "metadata": {},
     "output_type": "display_data"
    },
    {
     "data": {
      "text/html": [
       "<div>\n",
       "<style scoped>\n",
       "    .dataframe tbody tr th:only-of-type {\n",
       "        vertical-align: middle;\n",
       "    }\n",
       "\n",
       "    .dataframe tbody tr th {\n",
       "        vertical-align: top;\n",
       "    }\n",
       "\n",
       "    .dataframe thead th {\n",
       "        text-align: right;\n",
       "    }\n",
       "</style>\n",
       "<table border=\"1\" class=\"dataframe\">\n",
       "  <thead>\n",
       "    <tr style=\"text-align: right;\">\n",
       "      <th></th>\n",
       "      <th>species</th>\n",
       "      <th>island</th>\n",
       "      <th>gender</th>\n",
       "      <th>year</th>\n",
       "    </tr>\n",
       "  </thead>\n",
       "  <tbody>\n",
       "    <tr>\n",
       "      <td>0</td>\n",
       "      <td>adelie</td>\n",
       "      <td>biscoe</td>\n",
       "      <td>male</td>\n",
       "      <td>2009.0</td>\n",
       "    </tr>\n",
       "  </tbody>\n",
       "</table>\n",
       "</div>"
      ],
      "text/plain": [
       "  species  island gender    year\n",
       "0  adelie  biscoe   male  2009.0"
      ]
     },
     "metadata": {},
     "output_type": "display_data"
    },
    {
     "data": {
      "text/plain": [
       "calorie requirement       3504.0\n",
       "average sleep duration       7.0\n",
       "bill_length_mm              32.1\n",
       "bill_depth_mm               13.1\n",
       "flipper_length_mm           10.0\n",
       "body_mass_g                882.0\n",
       "dtype: float64"
      ]
     },
     "metadata": {},
     "output_type": "display_data"
    },
    {
     "data": {
      "text/plain": [
       "calorie requirement       7197.00\n",
       "average sleep duration      14.00\n",
       "bill_length_mm             124.30\n",
       "bill_depth_mm              127.26\n",
       "flipper_length_mm          231.00\n",
       "body_mass_g               6300.00\n",
       "dtype: float64"
      ]
     },
     "metadata": {},
     "output_type": "display_data"
    },
    {
     "data": {
      "text/plain": [
       "calorie requirement       4403.0\n",
       "average sleep duration       9.0\n",
       "bill_length_mm              39.5\n",
       "bill_depth_mm               15.7\n",
       "flipper_length_mm          190.0\n",
       "body_mass_g               3550.0\n",
       "Name: 0.25, dtype: float64"
      ]
     },
     "metadata": {},
     "output_type": "display_data"
    },
    {
     "data": {
      "text/plain": [
       "calorie requirement       5106.5\n",
       "average sleep duration      10.0\n",
       "bill_length_mm              45.1\n",
       "bill_depth_mm               17.3\n",
       "flipper_length_mm          197.0\n",
       "body_mass_g               4050.0\n",
       "Name: 0.5, dtype: float64"
      ]
     },
     "metadata": {},
     "output_type": "display_data"
    },
    {
     "data": {
      "text/plain": [
       "calorie requirement       6212.75\n",
       "average sleep duration      12.00\n",
       "bill_length_mm              49.00\n",
       "bill_depth_mm               18.70\n",
       "flipper_length_mm          213.00\n",
       "body_mass_g               4750.00\n",
       "Name: 0.75, dtype: float64"
      ]
     },
     "metadata": {},
     "output_type": "display_data"
    },
    {
     "name": "stdout",
     "output_type": "stream",
     "text": [
      "species                     3\n",
      "island                      3\n",
      "calorie requirement       333\n",
      "average sleep duration      8\n",
      "bill_length_mm            172\n",
      "bill_depth_mm              83\n",
      "flipper_length_mm          60\n",
      "body_mass_g                97\n",
      "gender                      2\n",
      "year                        3\n",
      "dtype: int64\n"
     ]
    },
    {
     "data": {
      "text/plain": [
       "calorie requirement       1067.959116\n",
       "average sleep duration       2.265895\n",
       "bill_length_mm              10.815787\n",
       "bill_depth_mm                9.241384\n",
       "flipper_length_mm           27.764491\n",
       "body_mass_g                858.713267\n",
       "dtype: float64"
      ]
     },
     "metadata": {},
     "output_type": "display_data"
    }
   ],
   "source": [
    "#Key statistics\n",
    "\n",
    "df_numerical=['calorie requirement','average sleep duration','bill_length_mm','bill_depth_mm','flipper_length_mm','body_mass_g']\n",
    "cat_cols = ['species', 'island','gender','year']\n",
    "\n",
    "#Mean\n",
    "mean=df[df_numerical].mean()\n",
    "display(mean)\n",
    "\n",
    "#Median\n",
    "median=df[df_numerical].median()\n",
    "display(median)\n",
    "\n",
    "#Mode\n",
    "mode=df[cat_cols].mode()\n",
    "display(mode)\n",
    "\n",
    "#min and max\n",
    "min_values=df[df_numerical].min()\n",
    "max_values=df[df_numerical].max()\n",
    "display(min_values)\n",
    "display(max_values)\n",
    "\n",
    "#quartiles\n",
    "\n",
    "display(df[df_numerical].quantile(0.25))\n",
    "display(df[df_numerical].quantile(0.50))\n",
    "display(df[df_numerical].quantile(0.75))\n",
    "\n",
    "#counts\n",
    "print(df.nunique())\n",
    "\n",
    "#standard deviation\n",
    "deviation=df[df_numerical].std()\n",
    "display(deviation)"
   ]
  },
  {
   "cell_type": "markdown",
   "metadata": {},
   "source": [
    "**Handling missing entries**"
   ]
  },
  {
   "cell_type": "code",
   "execution_count": 5,
   "metadata": {},
   "outputs": [
    {
     "data": {
      "text/html": [
       "<div>\n",
       "<style scoped>\n",
       "    .dataframe tbody tr th:only-of-type {\n",
       "        vertical-align: middle;\n",
       "    }\n",
       "\n",
       "    .dataframe tbody tr th {\n",
       "        vertical-align: top;\n",
       "    }\n",
       "\n",
       "    .dataframe thead th {\n",
       "        text-align: right;\n",
       "    }\n",
       "</style>\n",
       "<table border=\"1\" class=\"dataframe\">\n",
       "  <thead>\n",
       "    <tr style=\"text-align: right;\">\n",
       "      <th></th>\n",
       "      <th>species</th>\n",
       "      <th>island</th>\n",
       "      <th>calorie requirement</th>\n",
       "      <th>average sleep duration</th>\n",
       "      <th>bill_length_mm</th>\n",
       "      <th>bill_depth_mm</th>\n",
       "      <th>flipper_length_mm</th>\n",
       "      <th>body_mass_g</th>\n",
       "      <th>gender</th>\n",
       "      <th>year</th>\n",
       "    </tr>\n",
       "  </thead>\n",
       "  <tbody>\n",
       "    <tr>\n",
       "      <td>3</td>\n",
       "      <td>adelie</td>\n",
       "      <td>torgersen</td>\n",
       "      <td>4169</td>\n",
       "      <td>8</td>\n",
       "      <td>NaN</td>\n",
       "      <td>NaN</td>\n",
       "      <td>NaN</td>\n",
       "      <td>992.0</td>\n",
       "      <td>NaN</td>\n",
       "      <td>2007.0</td>\n",
       "    </tr>\n",
       "    <tr>\n",
       "      <td>8</td>\n",
       "      <td>adelie</td>\n",
       "      <td>torgersen</td>\n",
       "      <td>5593</td>\n",
       "      <td>8</td>\n",
       "      <td>34.1</td>\n",
       "      <td>18.1</td>\n",
       "      <td>193.0</td>\n",
       "      <td>3475.0</td>\n",
       "      <td>NaN</td>\n",
       "      <td>2007.0</td>\n",
       "    </tr>\n",
       "    <tr>\n",
       "      <td>9</td>\n",
       "      <td>adelie</td>\n",
       "      <td>torgersen</td>\n",
       "      <td>6275</td>\n",
       "      <td>7</td>\n",
       "      <td>42.0</td>\n",
       "      <td>20.2</td>\n",
       "      <td>190.0</td>\n",
       "      <td>4250.0</td>\n",
       "      <td>NaN</td>\n",
       "      <td>2007.0</td>\n",
       "    </tr>\n",
       "    <tr>\n",
       "      <td>10</td>\n",
       "      <td>adelie</td>\n",
       "      <td>torgersen</td>\n",
       "      <td>5135</td>\n",
       "      <td>10</td>\n",
       "      <td>37.8</td>\n",
       "      <td>17.1</td>\n",
       "      <td>186.0</td>\n",
       "      <td>3300.0</td>\n",
       "      <td>NaN</td>\n",
       "      <td>2007.0</td>\n",
       "    </tr>\n",
       "    <tr>\n",
       "      <td>11</td>\n",
       "      <td>adelie</td>\n",
       "      <td>torgersen</td>\n",
       "      <td>6021</td>\n",
       "      <td>7</td>\n",
       "      <td>37.8</td>\n",
       "      <td>17.3</td>\n",
       "      <td>180.0</td>\n",
       "      <td>3700.0</td>\n",
       "      <td>NaN</td>\n",
       "      <td>2007.0</td>\n",
       "    </tr>\n",
       "  </tbody>\n",
       "</table>\n",
       "</div>"
      ],
      "text/plain": [
       "   species     island  calorie requirement  average sleep duration  \\\n",
       "3   adelie  torgersen                 4169                       8   \n",
       "8   adelie  torgersen                 5593                       8   \n",
       "9   adelie  torgersen                 6275                       7   \n",
       "10  adelie  torgersen                 5135                      10   \n",
       "11  adelie  torgersen                 6021                       7   \n",
       "\n",
       "    bill_length_mm  bill_depth_mm  flipper_length_mm  body_mass_g gender  \\\n",
       "3              NaN            NaN                NaN        992.0    NaN   \n",
       "8             34.1           18.1              193.0       3475.0    NaN   \n",
       "9             42.0           20.2              190.0       4250.0    NaN   \n",
       "10            37.8           17.1              186.0       3300.0    NaN   \n",
       "11            37.8           17.3              180.0       3700.0    NaN   \n",
       "\n",
       "      year  \n",
       "3   2007.0  \n",
       "8   2007.0  \n",
       "9   2007.0  \n",
       "10  2007.0  \n",
       "11  2007.0  "
      ]
     },
     "metadata": {},
     "output_type": "display_data"
    },
    {
     "data": {
      "text/plain": [
       "344"
      ]
     },
     "metadata": {},
     "output_type": "display_data"
    },
    {
     "name": "stdout",
     "output_type": "stream",
     "text": [
      "39\n",
      "305\n"
     ]
    }
   ],
   "source": [
    "#displaying all rows with null values\n",
    "display(df[df.isna().any(axis=1)].head(5))\n",
    "display(len(df))\n",
    "\n",
    "#Gathering all null value rows in a new df for handlining missing values\n",
    "null_df=df[df.isna().any(axis=1)]\n",
    "print(len(null_df))\n",
    "#Removing Null rows containing null values to handle them seperatly.\n",
    "main_df=df[df.notna().all(axis=1)]\n",
    "print(len(main_df))"
   ]
  },
  {
   "cell_type": "code",
   "execution_count": 6,
   "metadata": {},
   "outputs": [
    {
     "data": {
      "text/plain": [
       "Text(0.5, 1.0, 'flipper length and body mass')"
      ]
     },
     "execution_count": 6,
     "metadata": {},
     "output_type": "execute_result"
    },
    {
     "data": {
      "image/png": "[encoded data removed]",
      "text/plain": [
       "<Figure size 432x288 with 1 Axes>"
      ]
     },
     "metadata": {
      "needs_background": "light"
     },
     "output_type": "display_data"
    }
   ],
   "source": [
    "# Filling the missing values of gender\n",
    "sns.scatterplot(x='flipper_length_mm', y='body_mass_g', hue='species',style='gender', data=df)\n",
    "plt.xlabel('flipper length')\n",
    "plt.ylabel('body mass')\n",
    "plt.title('flipper length and body mass')"
   ]
  },
  {
   "cell_type": "code",
   "execution_count": 7,
   "metadata": {},
   "outputs": [
    {
     "name": "stdout",
     "output_type": "stream",
     "text": [
      "39\n",
      "344\n"
     ]
    },
    {
     "name": "stderr",
     "output_type": "stream",
     "text": [
      "/Users/adarshreddy/opt/anaconda3/lib/python3.7/site-packages/ipykernel_launcher.py:7: SettingWithCopyWarning: \n",
      "A value is trying to be set on a copy of a slice from a DataFrame.\n",
      "Try using .loc[row_indexer,col_indexer] = value instead\n",
      "\n",
      "See the caveats in the documentation: http://pandas.pydata.org/pandas-docs/stable/user_guide/indexing.html#returning-a-view-versus-a-copy\n",
      "  import sys\n",
      "/Users/adarshreddy/opt/anaconda3/lib/python3.7/site-packages/ipykernel_launcher.py:11: SettingWithCopyWarning: \n",
      "A value is trying to be set on a copy of a slice from a DataFrame.\n",
      "Try using .loc[row_indexer,col_indexer] = value instead\n",
      "\n",
      "See the caveats in the documentation: http://pandas.pydata.org/pandas-docs/stable/user_guide/indexing.html#returning-a-view-versus-a-copy\n",
      "  # This is added back by InteractiveShellApp.init_path()\n",
      "/Users/adarshreddy/opt/anaconda3/lib/python3.7/site-packages/ipykernel_launcher.py:15: SettingWithCopyWarning: \n",
      "A value is trying to be set on a copy of a slice from a DataFrame.\n",
      "Try using .loc[row_indexer,col_indexer] = value instead\n",
      "\n",
      "See the caveats in the documentation: http://pandas.pydata.org/pandas-docs/stable/user_guide/indexing.html#returning-a-view-versus-a-copy\n",
      "  from ipykernel import kernelapp as app\n",
      "/Users/adarshreddy/opt/anaconda3/lib/python3.7/site-packages/ipykernel_launcher.py:45: SettingWithCopyWarning: \n",
      "A value is trying to be set on a copy of a slice from a DataFrame.\n",
      "Try using .loc[row_indexer,col_indexer] = value instead\n",
      "\n",
      "See the caveats in the documentation: http://pandas.pydata.org/pandas-docs/stable/user_guide/indexing.html#returning-a-view-versus-a-copy\n"
     ]
    }
   ],
   "source": [
    "### Handling missing values in gender after filtering for rows containing information on species and body_mass_g\n",
    "\n",
    "spc_bod_df = null_df[null_df['species'].notna() & null_df['gender'].isna() & null_df['body_mass_g'].notna()]\n",
    "\n",
    "spc_bod_df['gender'] = np.where(spc_bod_df['gender'].isna() & (spc_bod_df['species'] == 'adelie') & (spc_bod_df['body_mass_g'] <= 3800) , 'female',\n",
    "                          np.where(spc_bod_df['gender'].isna() & (spc_bod_df['species'] == 'adelie') & (spc_bod_df['body_mass_g'] > 3800), 'male',\n",
    "                                   spc_bod_df['gender']))\n",
    "\n",
    "spc_bod_df['gender'] = np.where(spc_bod_df['gender'].isna() & (spc_bod_df['species'] == 'gentoo') & (spc_bod_df['body_mass_g'] <= 5100) , 'female',\n",
    "                          np.where(spc_bod_df['gender'].isna() & (spc_bod_df['species'] == 'gentoo') & (spc_bod_df['body_mass_g'] > 5100), 'male',\n",
    "                                   spc_bod_df['gender']))\n",
    "\n",
    "spc_bod_df['gender'] = np.where( spc_bod_df['gender'].isna() & (spc_bod_df['species'] == 'chinstrap') & (spc_bod_df['body_mass_g'] <= 3800) , 'female',\n",
    "                          np.where(spc_bod_df['gender'].isna() & (spc_bod_df['species'] == 'chinstrap') & (spc_bod_df['body_mass_g'] > 3800), 'male',\n",
    "                                   spc_bod_df['gender']))\n",
    "\n",
    "\n",
    "\n",
    "### Filtered data of rows containing information on species and gender. We also concatinated above acquired handled data this data.\n",
    "\n",
    "spc_gen_df = null_df[null_df['species'].notna() & null_df['gender'].notna()]\n",
    "spc_gen_df= pd.concat([spc_gen_df, spc_bod_df], ignore_index=True)\n",
    "\n",
    "# calculating Mean of each species of all columns for each species\n",
    "mean_cal=df.groupby(['species','gender'])[['bill_length_mm','bill_depth_mm','flipper_length_mm','body_mass_g']].mean()\n",
    "mean_cal = mean_cal.rename(columns={'bill_length_mm': 'avg_bill_length','bill_depth_mm': 'avg_bill_depth','flipper_length_mm': 'avg_flipper_length','body_mass_g': 'avg_body_mass'})\n",
    "\n",
    "# Replaced null values where species and gender are not null by replacing bill_length_mm, \n",
    "# bill_depth_mm, flipper_length_mm, body_mass_g with mean values of that specific species and gender.\n",
    "\n",
    "spc_gen_df = spc_gen_df[spc_gen_df['species'].notna() & spc_gen_df['gender'].notna()]\n",
    "spc_gen_df = spc_gen_df.merge(mean_cal, on=['species', 'gender'], how='left')\n",
    "\n",
    "columns = ['bill_length_mm', 'bill_depth_mm','flipper_length_mm','body_mass_g']\n",
    "columns_to_replace = ['avg_bill_length','avg_bill_depth','avg_flipper_length','avg_body_mass']\n",
    "for i in range(len(columns)):\n",
    "    spc_gen_df[columns[i]].fillna(spc_gen_df[columns_to_replace[i]], inplace=True)\n",
    "    \n",
    "spc_gen_df.drop(columns=columns_to_replace, inplace=True)\n",
    "\n",
    "\n",
    "\n",
    "### Now, we are handling missing values of rows that have null values in species column\n",
    "spc_not_df = null_df[null_df['species'].isna()]\n",
    "spc_not_df['species'] = np.where(spc_not_df['body_mass_g'] <= 4500, 'adelie', 'gentoo')\n",
    "\n",
    "spc_not_df = spc_not_df.merge(mean_cal, on=['species', 'gender'], how='left')\n",
    "\n",
    "columns = ['bill_length_mm', 'bill_depth_mm','flipper_length_mm','body_mass_g']\n",
    "columns_to_replace = ['avg_bill_length','avg_bill_depth','avg_flipper_length','avg_body_mass']\n",
    "for i in range(len(columns)):\n",
    "    spc_not_df[columns[i]].fillna(spc_not_df[columns_to_replace[i]], inplace=True)\n",
    "    \n",
    "spc_not_df.drop(columns=columns_to_replace, inplace=True)\n",
    "\n",
    "\n",
    "### Combining all the above three handled dataframes to fill the rest of the missing values with mode and mean \n",
    "gen_bm_not_df=null_df[null_df['body_mass_g'].isna() & null_df['gender'].isna()]\n",
    "Pre_final_data= pd.concat([spc_gen_df, spc_not_df, gen_bm_not_df], ignore_index=True)\n",
    "\n",
    "\n",
    "#final repacing the missing values with mean and mode\n",
    "cat_cols = ['species', 'island','gender','year']\n",
    "for i in cat_cols:\n",
    "    mode_value = Pre_final_data[i].mode()[0]\n",
    "    Pre_final_data[i] = Pre_final_data[i].fillna(mode_value)\n",
    "    \n",
    "num_cols = ['bill_length_mm','bill_depth_mm','flipper_length_mm','body_mass_g']\n",
    "for i in num_cols:\n",
    "    mean_value = Pre_final_data[i].mean()\n",
    "    Pre_final_data[i] = Pre_final_data[i].fillna(mean_value)  \n",
    "\n",
    "print(len(Pre_final_data))\n",
    "Final_cleaned_data= pd.concat([Pre_final_data,main_df], ignore_index=True)\n",
    "print(len(Final_cleaned_data))\n"
   ]
  },
  {
   "cell_type": "markdown",
   "metadata": {},
   "source": [
    "**Handling Outliers**"
   ]
  },
  {
   "cell_type": "code",
   "execution_count": 8,
   "metadata": {},
   "outputs": [
    {
     "data": {
      "image/png": "[encoded data removed]",
      "text/plain": [
       "<Figure size 432x288 with 1 Axes>"
      ]
     },
     "metadata": {
      "needs_background": "light"
     },
     "output_type": "display_data"
    },
    {
     "data": {
      "image/png": "[encoded data removed]",
      "text/plain": [
       "<Figure size 432x288 with 1 Axes>"
      ]
     },
     "metadata": {
      "needs_background": "light"
     },
     "output_type": "display_data"
    },
    {
     "data": {
      "image/png": "[encoded data removed]",
      "text/plain": [
       "<Figure size 432x288 with 1 Axes>"
      ]
     },
     "metadata": {
      "needs_background": "light"
     },
     "output_type": "display_data"
    },
    {
     "data": {
      "image/png": "[encoded data removed]",
      "text/plain": [
       "<Figure size 432x288 with 1 Axes>"
      ]
     },
     "metadata": {
      "needs_background": "light"
     },
     "output_type": "display_data"
    }
   ],
   "source": [
    "### Handling outliers\n",
    "for i in num_cols:\n",
    "    plt.figure()  \n",
    "    plt.boxplot(Final_cleaned_data[i])\n",
    "plt.show()\n",
    "\n",
    "\n",
    "mean_value_1 = Final_cleaned_data['bill_length_mm'].mean()\n",
    "Final_cleaned_data['bill_length_mm'] = np.where(Final_cleaned_data['bill_length_mm']>=60, mean_value_1,Final_cleaned_data['bill_length_mm'])\n",
    "\n",
    "mean_value_2 = Final_cleaned_data['bill_depth_mm'].mean()\n",
    "Final_cleaned_data['bill_depth_mm'] = np.where(Final_cleaned_data['bill_depth_mm']>=30, mean_value_2,Final_cleaned_data['bill_depth_mm'])\n",
    "\n",
    "mean_value_3 = Final_cleaned_data['flipper_length_mm'].mean()\n",
    "Final_cleaned_data['flipper_length_mm'] = np.where(Final_cleaned_data['flipper_length_mm']<=175, mean_value_3,Final_cleaned_data['flipper_length_mm'])\n",
    "\n",
    "mean_value_4 = Final_cleaned_data['body_mass_g'].mean()\n",
    "Final_cleaned_data['body_mass_g'] = np.where(Final_cleaned_data['body_mass_g']<=2600, mean_value_4,Final_cleaned_data['body_mass_g'])\n"
   ]
  },
  {
   "cell_type": "markdown",
   "metadata": {},
   "source": [
    "**Data Visualization**"
   ]
  },
  {
   "cell_type": "code",
   "execution_count": 9,
   "metadata": {},
   "outputs": [
    {
     "data": {
      "text/plain": [
       "Text(0.5, 1.0, 'flipper length and body mass')"
      ]
     },
     "execution_count": 9,
     "metadata": {},
     "output_type": "execute_result"
    },
    {
     "data": {
      "image/png": "[encoded data removed]",
      "text/plain": [
       "<Figure size 432x288 with 1 Axes>"
      ]
     },
     "metadata": {
      "needs_background": "light"
     },
     "output_type": "display_data"
    }
   ],
   "source": [
    "# Plot 1\n",
    "sns.scatterplot(x='flipper_length_mm', y='body_mass_g', hue='species',style='gender', data=Final_cleaned_data)\n",
    "plt.xlabel('flipper length')\n",
    "plt.ylabel('body mass')\n",
    "plt.title('flipper length and body mass')"
   ]
  },
  {
   "cell_type": "code",
   "execution_count": 10,
   "metadata": {},
   "outputs": [
    {
     "data": {
      "text/plain": [
       "Text(0.5, 1.0, 'bill length and body mass')"
      ]
     },
     "execution_count": 10,
     "metadata": {},
     "output_type": "execute_result"
    },
    {
     "data": {
      "image/png": "[encoded data removed]",
      "text/plain": [
       "<Figure size 432x288 with 1 Axes>"
      ]
     },
     "metadata": {
      "needs_background": "light"
     },
     "output_type": "display_data"
    }
   ],
   "source": [
    "#plot 2\n",
    "sns.scatterplot(x='bill_length_mm', y='body_mass_g', hue='species',style='gender', data=Final_cleaned_data)\n",
    "plt.xlabel('bill length')\n",
    "plt.ylabel('body mass')\n",
    "plt.title('bill length and body mass')"
   ]
  },
  {
   "cell_type": "code",
   "execution_count": 11,
   "metadata": {},
   "outputs": [
    {
     "data": {
      "text/html": [
       "<div>\n",
       "<style scoped>\n",
       "    .dataframe tbody tr th:only-of-type {\n",
       "        vertical-align: middle;\n",
       "    }\n",
       "\n",
       "    .dataframe tbody tr th {\n",
       "        vertical-align: top;\n",
       "    }\n",
       "\n",
       "    .dataframe thead th {\n",
       "        text-align: right;\n",
       "    }\n",
       "</style>\n",
       "<table border=\"1\" class=\"dataframe\">\n",
       "  <thead>\n",
       "    <tr style=\"text-align: right;\">\n",
       "      <th></th>\n",
       "      <th>species</th>\n",
       "      <th>gender</th>\n",
       "      <th>penguin_count</th>\n",
       "    </tr>\n",
       "  </thead>\n",
       "  <tbody>\n",
       "    <tr>\n",
       "      <td>0</td>\n",
       "      <td>adelie</td>\n",
       "      <td>female</td>\n",
       "      <td>79</td>\n",
       "    </tr>\n",
       "    <tr>\n",
       "      <td>1</td>\n",
       "      <td>adelie</td>\n",
       "      <td>male</td>\n",
       "      <td>73</td>\n",
       "    </tr>\n",
       "    <tr>\n",
       "      <td>2</td>\n",
       "      <td>chinstrap</td>\n",
       "      <td>female</td>\n",
       "      <td>35</td>\n",
       "    </tr>\n",
       "    <tr>\n",
       "      <td>3</td>\n",
       "      <td>chinstrap</td>\n",
       "      <td>male</td>\n",
       "      <td>32</td>\n",
       "    </tr>\n",
       "    <tr>\n",
       "      <td>4</td>\n",
       "      <td>gentoo</td>\n",
       "      <td>female</td>\n",
       "      <td>63</td>\n",
       "    </tr>\n",
       "    <tr>\n",
       "      <td>5</td>\n",
       "      <td>gentoo</td>\n",
       "      <td>male</td>\n",
       "      <td>62</td>\n",
       "    </tr>\n",
       "  </tbody>\n",
       "</table>\n",
       "</div>"
      ],
      "text/plain": [
       "     species  gender  penguin_count\n",
       "0     adelie  female             79\n",
       "1     adelie    male             73\n",
       "2  chinstrap  female             35\n",
       "3  chinstrap    male             32\n",
       "4     gentoo  female             63\n",
       "5     gentoo    male             62"
      ]
     },
     "metadata": {},
     "output_type": "display_data"
    },
    {
     "data": {
      "text/plain": [
       "<BarContainer object of 6 artists>"
      ]
     },
     "execution_count": 11,
     "metadata": {},
     "output_type": "execute_result"
    },
    {
     "data": {
      "image/png": "[encoded data removed]",
      "text/plain": [
       "<Figure size 720x432 with 1 Axes>"
      ]
     },
     "metadata": {
      "needs_background": "light"
     },
     "output_type": "display_data"
    }
   ],
   "source": [
    "#plot 3\n",
    "penguins_count=Final_cleaned_data.groupby(['species','gender']).size().reset_index(name='penguin_count')\n",
    "display(penguins_count)\n",
    "\n",
    "plt.figure(figsize=(10, 6))\n",
    "plt.xlabel('Species, Gender')\n",
    "plt.ylabel('Penguin Count')\n",
    "plt.title('Number of penguins by species and gender')\n",
    "plt.bar(penguins_count[\"species\"] + \" \" + penguins_count[\"gender\"], penguins_count[\"penguin_count\"])"
   ]
  },
  {
   "cell_type": "code",
   "execution_count": 12,
   "metadata": {},
   "outputs": [
    {
     "data": {
      "image/png": "[encoded data removed]",
      "text/plain": [
       "<Figure size 432x288 with 1 Axes>"
      ]
     },
     "metadata": {
      "needs_background": "light"
     },
     "output_type": "display_data"
    }
   ],
   "source": [
    "#plot 4\n",
    "plt.hist(Final_cleaned_data[\"body_mass_g\"], bins=7)\n",
    "plt.xlabel(\"body_mass_g\")\n",
    "plt.ylabel(\"values\")\n",
    "plt.show()"
   ]
  },
  {
   "cell_type": "code",
   "execution_count": 13,
   "metadata": {},
   "outputs": [
    {
     "data": {
      "text/html": [
       "<div>\n",
       "<style scoped>\n",
       "    .dataframe tbody tr th:only-of-type {\n",
       "        vertical-align: middle;\n",
       "    }\n",
       "\n",
       "    .dataframe tbody tr th {\n",
       "        vertical-align: top;\n",
       "    }\n",
       "\n",
       "    .dataframe thead th {\n",
       "        text-align: right;\n",
       "    }\n",
       "</style>\n",
       "<table border=\"1\" class=\"dataframe\">\n",
       "  <thead>\n",
       "    <tr style=\"text-align: right;\">\n",
       "      <th></th>\n",
       "      <th>year</th>\n",
       "      <th>penguin_count</th>\n",
       "    </tr>\n",
       "  </thead>\n",
       "  <tbody>\n",
       "    <tr>\n",
       "      <td>0</td>\n",
       "      <td>2007</td>\n",
       "      <td>110</td>\n",
       "    </tr>\n",
       "    <tr>\n",
       "      <td>1</td>\n",
       "      <td>2008</td>\n",
       "      <td>114</td>\n",
       "    </tr>\n",
       "    <tr>\n",
       "      <td>2</td>\n",
       "      <td>2009</td>\n",
       "      <td>120</td>\n",
       "    </tr>\n",
       "  </tbody>\n",
       "</table>\n",
       "</div>"
      ],
      "text/plain": [
       "   year  penguin_count\n",
       "0  2007            110\n",
       "1  2008            114\n",
       "2  2009            120"
      ]
     },
     "metadata": {},
     "output_type": "display_data"
    },
    {
     "data": {
      "text/plain": [
       "<BarContainer object of 3 artists>"
      ]
     },
     "execution_count": 13,
     "metadata": {},
     "output_type": "execute_result"
    },
    {
     "data": {
      "image/png": "[encoded data removed]",
      "text/plain": [
       "<Figure size 432x288 with 1 Axes>"
      ]
     },
     "metadata": {
      "needs_background": "light"
     },
     "output_type": "display_data"
    }
   ],
   "source": [
    "#plot 5\n",
    "penguins_count=Final_cleaned_data.groupby(['year']).size().reset_index(name='penguin_count')\n",
    "penguins_count[\"year\"] = penguins_count[\"year\"].astype(int)\n",
    "display(penguins_count)\n",
    "\n",
    "plt.xlabel('year')\n",
    "plt.ylabel('Penguin Count')\n",
    "plt.title('Number of penguins by Year')\n",
    "plt.bar(penguins_count[\"year\"], penguins_count[\"penguin_count\"])"
   ]
  },
  {
   "cell_type": "markdown",
   "metadata": {},
   "source": [
    "**Identify uncorrelated or unrelated features**"
   ]
  },
  {
   "cell_type": "code",
   "execution_count": 14,
   "metadata": {
    "scrolled": true
   },
   "outputs": [
    {
     "name": "stdout",
     "output_type": "stream",
     "text": [
      "                        calorie requirement  average sleep duration  \\\n",
      "calorie requirement                1.000000               -0.055628   \n",
      "average sleep duration            -0.055628                1.000000   \n",
      "bill_length_mm                    -0.013800                0.052100   \n",
      "bill_depth_mm                     -0.095124                0.007011   \n",
      "flipper_length_mm                 -0.011418                0.063696   \n",
      "body_mass_g                        0.051508                0.070035   \n",
      "year                              -0.036791                0.043274   \n",
      "\n",
      "                        bill_length_mm  bill_depth_mm  flipper_length_mm  \\\n",
      "calorie requirement          -0.013800      -0.095124          -0.011418   \n",
      "average sleep duration        0.052100       0.007011           0.063696   \n",
      "bill_length_mm                1.000000      -0.204724           0.624913   \n",
      "bill_depth_mm                -0.204724       1.000000          -0.571343   \n",
      "flipper_length_mm             0.624913      -0.571343           1.000000   \n",
      "body_mass_g                   0.586088      -0.456399           0.854039   \n",
      "year                          0.069997      -0.046521           0.160787   \n",
      "\n",
      "                        body_mass_g      year  \n",
      "calorie requirement        0.051508 -0.036791  \n",
      "average sleep duration     0.070035  0.043274  \n",
      "bill_length_mm             0.586088  0.069997  \n",
      "bill_depth_mm             -0.456399 -0.046521  \n",
      "flipper_length_mm          0.854039  0.160787  \n",
      "body_mass_g                1.000000  0.047521  \n",
      "year                       0.047521  1.000000  \n"
     ]
    },
    {
     "data": {
      "image/png": "[encoded data removed]",
      "text/plain": [
       "<Figure size 432x288 with 2 Axes>"
      ]
     },
     "metadata": {
      "needs_background": "light"
     },
     "output_type": "display_data"
    }
   ],
   "source": [
    "#Finding correlation\n",
    "import seaborn as sns\n",
    "import matplotlib.pyplot as plt\n",
    "\n",
    "corr=Final_cleaned_data.corr()\n",
    "print(corr)\n",
    "  \n",
    "sns.heatmap(corr)\n",
    "plt.title('Correlation Heatmap')\n",
    "plt.show()\n"
   ]
  },
  {
   "cell_type": "code",
   "execution_count": 15,
   "metadata": {},
   "outputs": [],
   "source": [
    "Final_cleaned_data.drop(columns=[\"year\"],inplace=True)"
   ]
  },
  {
   "cell_type": "markdown",
   "metadata": {},
   "source": [
    " **Normalize non-categorical features**"
   ]
  },
  {
   "cell_type": "code",
   "execution_count": 16,
   "metadata": {},
   "outputs": [],
   "source": [
    "#num_cols = ['bill_length_mm','bill_depth_mm','flipper_length_mm','body_mass_g']\n",
    "num_cols = ['calorie requirement', 'average sleep duration','bill_length_mm','bill_depth_mm','flipper_length_mm','body_mass_g']\n",
    "for i in num_cols:\n",
    "    min_value=Final_cleaned_data[i].min()\n",
    "    max_value=Final_cleaned_data[i].max()\n",
    "    Final_cleaned_data[i]=(Final_cleaned_data[i]-min_value)/(max_value-min_value)"
   ]
  },
  {
   "cell_type": "code",
   "execution_count": 17,
   "metadata": {},
   "outputs": [],
   "source": [
    "#Converting catergorical to binary column using onehot encoding\n",
    "Final_cleaned_data = pd.get_dummies(Final_cleaned_data, columns=['species', 'island','gender'], prefix=['species', 'island','gender'])"
   ]
  },
  {
   "cell_type": "code",
   "execution_count": 18,
   "metadata": {},
   "outputs": [],
   "source": [
    "penguins_cleaned_scaled=Final_cleaned_data"
   ]
  },
  {
   "cell_type": "code",
   "execution_count": 19,
   "metadata": {},
   "outputs": [
    {
     "data": {
      "text/plain": [
       "Index(['calorie requirement', 'average sleep duration', 'bill_length_mm',\n",
       "       'bill_depth_mm', 'flipper_length_mm', 'body_mass_g', 'species_adelie',\n",
       "       'species_chinstrap', 'species_gentoo', 'island_biscoe', 'island_dream',\n",
       "       'island_torgersen', 'gender_female', 'gender_male'],\n",
       "      dtype='object')"
      ]
     },
     "execution_count": 19,
     "metadata": {},
     "output_type": "execute_result"
    }
   ],
   "source": [
    "penguins_cleaned_scaled.columns"
   ]
  },
  {
   "cell_type": "code",
   "execution_count": 20,
   "metadata": {},
   "outputs": [
    {
     "data": {
      "text/html": [
       "<div>\n",
       "<style scoped>\n",
       "    .dataframe tbody tr th:only-of-type {\n",
       "        vertical-align: middle;\n",
       "    }\n",
       "\n",
       "    .dataframe tbody tr th {\n",
       "        vertical-align: top;\n",
       "    }\n",
       "\n",
       "    .dataframe thead th {\n",
       "        text-align: right;\n",
       "    }\n",
       "</style>\n",
       "<table border=\"1\" class=\"dataframe\">\n",
       "  <thead>\n",
       "    <tr style=\"text-align: right;\">\n",
       "      <th></th>\n",
       "      <th>calorie requirement</th>\n",
       "      <th>average sleep duration</th>\n",
       "      <th>bill_length_mm</th>\n",
       "      <th>bill_depth_mm</th>\n",
       "      <th>flipper_length_mm</th>\n",
       "      <th>body_mass_g</th>\n",
       "      <th>species_adelie</th>\n",
       "      <th>species_chinstrap</th>\n",
       "      <th>species_gentoo</th>\n",
       "      <th>island_biscoe</th>\n",
       "      <th>island_dream</th>\n",
       "      <th>island_torgersen</th>\n",
       "      <th>gender_female</th>\n",
       "      <th>gender_male</th>\n",
       "    </tr>\n",
       "  </thead>\n",
       "  <tbody>\n",
       "    <tr>\n",
       "      <td>0</td>\n",
       "      <td>0.366640</td>\n",
       "      <td>0.857143</td>\n",
       "      <td>0.109091</td>\n",
       "      <td>0.708067</td>\n",
       "      <td>0.300136</td>\n",
       "      <td>0.416667</td>\n",
       "      <td>1</td>\n",
       "      <td>0</td>\n",
       "      <td>0</td>\n",
       "      <td>1</td>\n",
       "      <td>0</td>\n",
       "      <td>0</td>\n",
       "      <td>0</td>\n",
       "      <td>1</td>\n",
       "    </tr>\n",
       "    <tr>\n",
       "      <td>1</td>\n",
       "      <td>0.055781</td>\n",
       "      <td>0.000000</td>\n",
       "      <td>0.432727</td>\n",
       "      <td>0.059524</td>\n",
       "      <td>0.600000</td>\n",
       "      <td>0.458333</td>\n",
       "      <td>0</td>\n",
       "      <td>0</td>\n",
       "      <td>1</td>\n",
       "      <td>1</td>\n",
       "      <td>0</td>\n",
       "      <td>0</td>\n",
       "      <td>1</td>\n",
       "      <td>0</td>\n",
       "    </tr>\n",
       "    <tr>\n",
       "      <td>2</td>\n",
       "      <td>0.401029</td>\n",
       "      <td>0.571429</td>\n",
       "      <td>0.486964</td>\n",
       "      <td>0.166667</td>\n",
       "      <td>0.581818</td>\n",
       "      <td>0.486111</td>\n",
       "      <td>0</td>\n",
       "      <td>0</td>\n",
       "      <td>1</td>\n",
       "      <td>1</td>\n",
       "      <td>0</td>\n",
       "      <td>0</td>\n",
       "      <td>1</td>\n",
       "      <td>0</td>\n",
       "    </tr>\n",
       "    <tr>\n",
       "      <td>3</td>\n",
       "      <td>0.770647</td>\n",
       "      <td>0.142857</td>\n",
       "      <td>0.494545</td>\n",
       "      <td>0.134771</td>\n",
       "      <td>0.690909</td>\n",
       "      <td>0.472222</td>\n",
       "      <td>0</td>\n",
       "      <td>0</td>\n",
       "      <td>1</td>\n",
       "      <td>1</td>\n",
       "      <td>0</td>\n",
       "      <td>0</td>\n",
       "      <td>1</td>\n",
       "      <td>0</td>\n",
       "    </tr>\n",
       "    <tr>\n",
       "      <td>4</td>\n",
       "      <td>0.456810</td>\n",
       "      <td>0.285714</td>\n",
       "      <td>0.560000</td>\n",
       "      <td>0.134771</td>\n",
       "      <td>0.600000</td>\n",
       "      <td>0.547197</td>\n",
       "      <td>0</td>\n",
       "      <td>0</td>\n",
       "      <td>1</td>\n",
       "      <td>1</td>\n",
       "      <td>0</td>\n",
       "      <td>0</td>\n",
       "      <td>1</td>\n",
       "      <td>0</td>\n",
       "    </tr>\n",
       "    <tr>\n",
       "      <td>...</td>\n",
       "      <td>...</td>\n",
       "      <td>...</td>\n",
       "      <td>...</td>\n",
       "      <td>...</td>\n",
       "      <td>...</td>\n",
       "      <td>...</td>\n",
       "      <td>...</td>\n",
       "      <td>...</td>\n",
       "      <td>...</td>\n",
       "      <td>...</td>\n",
       "      <td>...</td>\n",
       "      <td>...</td>\n",
       "      <td>...</td>\n",
       "      <td>...</td>\n",
       "    </tr>\n",
       "    <tr>\n",
       "      <td>339</td>\n",
       "      <td>0.357975</td>\n",
       "      <td>0.571429</td>\n",
       "      <td>0.861818</td>\n",
       "      <td>0.797619</td>\n",
       "      <td>0.563636</td>\n",
       "      <td>0.361111</td>\n",
       "      <td>0</td>\n",
       "      <td>1</td>\n",
       "      <td>0</td>\n",
       "      <td>0</td>\n",
       "      <td>1</td>\n",
       "      <td>0</td>\n",
       "      <td>0</td>\n",
       "      <td>1</td>\n",
       "    </tr>\n",
       "    <tr>\n",
       "      <td>340</td>\n",
       "      <td>0.164365</td>\n",
       "      <td>0.285714</td>\n",
       "      <td>0.414545</td>\n",
       "      <td>0.595238</td>\n",
       "      <td>0.472727</td>\n",
       "      <td>0.194444</td>\n",
       "      <td>0</td>\n",
       "      <td>1</td>\n",
       "      <td>0</td>\n",
       "      <td>0</td>\n",
       "      <td>1</td>\n",
       "      <td>0</td>\n",
       "      <td>1</td>\n",
       "      <td>0</td>\n",
       "    </tr>\n",
       "    <tr>\n",
       "      <td>341</td>\n",
       "      <td>0.959924</td>\n",
       "      <td>0.428571</td>\n",
       "      <td>0.636364</td>\n",
       "      <td>0.607143</td>\n",
       "      <td>0.309091</td>\n",
       "      <td>0.298611</td>\n",
       "      <td>0</td>\n",
       "      <td>1</td>\n",
       "      <td>0</td>\n",
       "      <td>0</td>\n",
       "      <td>1</td>\n",
       "      <td>0</td>\n",
       "      <td>0</td>\n",
       "      <td>1</td>\n",
       "    </tr>\n",
       "    <tr>\n",
       "      <td>342</td>\n",
       "      <td>0.325210</td>\n",
       "      <td>0.000000</td>\n",
       "      <td>0.680000</td>\n",
       "      <td>0.702381</td>\n",
       "      <td>0.618182</td>\n",
       "      <td>0.388889</td>\n",
       "      <td>0</td>\n",
       "      <td>1</td>\n",
       "      <td>0</td>\n",
       "      <td>0</td>\n",
       "      <td>1</td>\n",
       "      <td>0</td>\n",
       "      <td>0</td>\n",
       "      <td>1</td>\n",
       "    </tr>\n",
       "    <tr>\n",
       "      <td>343</td>\n",
       "      <td>0.702410</td>\n",
       "      <td>0.000000</td>\n",
       "      <td>0.658182</td>\n",
       "      <td>0.666667</td>\n",
       "      <td>0.400000</td>\n",
       "      <td>0.298611</td>\n",
       "      <td>0</td>\n",
       "      <td>1</td>\n",
       "      <td>0</td>\n",
       "      <td>0</td>\n",
       "      <td>1</td>\n",
       "      <td>0</td>\n",
       "      <td>1</td>\n",
       "      <td>0</td>\n",
       "    </tr>\n",
       "  </tbody>\n",
       "</table>\n",
       "<p>344 rows × 14 columns</p>\n",
       "</div>"
      ],
      "text/plain": [
       "     calorie requirement  average sleep duration  bill_length_mm  \\\n",
       "0               0.366640                0.857143        0.109091   \n",
       "1               0.055781                0.000000        0.432727   \n",
       "2               0.401029                0.571429        0.486964   \n",
       "3               0.770647                0.142857        0.494545   \n",
       "4               0.456810                0.285714        0.560000   \n",
       "..                   ...                     ...             ...   \n",
       "339             0.357975                0.571429        0.861818   \n",
       "340             0.164365                0.285714        0.414545   \n",
       "341             0.959924                0.428571        0.636364   \n",
       "342             0.325210                0.000000        0.680000   \n",
       "343             0.702410                0.000000        0.658182   \n",
       "\n",
       "     bill_depth_mm  flipper_length_mm  body_mass_g  species_adelie  \\\n",
       "0         0.708067           0.300136     0.416667               1   \n",
       "1         0.059524           0.600000     0.458333               0   \n",
       "2         0.166667           0.581818     0.486111               0   \n",
       "3         0.134771           0.690909     0.472222               0   \n",
       "4         0.134771           0.600000     0.547197               0   \n",
       "..             ...                ...          ...             ...   \n",
       "339       0.797619           0.563636     0.361111               0   \n",
       "340       0.595238           0.472727     0.194444               0   \n",
       "341       0.607143           0.309091     0.298611               0   \n",
       "342       0.702381           0.618182     0.388889               0   \n",
       "343       0.666667           0.400000     0.298611               0   \n",
       "\n",
       "     species_chinstrap  species_gentoo  island_biscoe  island_dream  \\\n",
       "0                    0               0              1             0   \n",
       "1                    0               1              1             0   \n",
       "2                    0               1              1             0   \n",
       "3                    0               1              1             0   \n",
       "4                    0               1              1             0   \n",
       "..                 ...             ...            ...           ...   \n",
       "339                  1               0              0             1   \n",
       "340                  1               0              0             1   \n",
       "341                  1               0              0             1   \n",
       "342                  1               0              0             1   \n",
       "343                  1               0              0             1   \n",
       "\n",
       "     island_torgersen  gender_female  gender_male  \n",
       "0                   0              0            1  \n",
       "1                   0              1            0  \n",
       "2                   0              1            0  \n",
       "3                   0              1            0  \n",
       "4                   0              1            0  \n",
       "..                ...            ...          ...  \n",
       "339                 0              0            1  \n",
       "340                 0              1            0  \n",
       "341                 0              0            1  \n",
       "342                 0              0            1  \n",
       "343                 0              1            0  \n",
       "\n",
       "[344 rows x 14 columns]"
      ]
     },
     "metadata": {},
     "output_type": "display_data"
    }
   ],
   "source": [
    "display(penguins_cleaned_scaled)\n",
    "penguins_cleaned_scaled.drop(columns=['gender_female'],inplace=True)"
   ]
  },
  {
   "cell_type": "code",
   "execution_count": 21,
   "metadata": {},
   "outputs": [],
   "source": [
    "penguins_cleaned_scaled.to_csv(r\"/Users/adarshreddy/Desktop/Assignments/ML/adarshre_dharmaac_assignment1_final/penguins_preprocessed.csv\",index=False)"
   ]
  },
  {
   "cell_type": "markdown",
   "metadata": {},
   "source": [
    "***Diamond Dataset Data Preprocessing***"
   ]
  },
  {
   "cell_type": "markdown",
   "metadata": {},
   "source": [
    "**Importing Libraries**"
   ]
  },
  {
   "cell_type": "code",
   "execution_count": 22,
   "metadata": {},
   "outputs": [],
   "source": [
    "import pandas as pd\n",
    "import numpy as np\n",
    "import matplotlib.pyplot as plt\n",
    "import seaborn as sns"
   ]
  },
  {
   "cell_type": "markdown",
   "metadata": {},
   "source": [
    "**Handling missing values, Handle mismatched string formats.**"
   ]
  },
  {
   "cell_type": "code",
   "execution_count": 23,
   "metadata": {},
   "outputs": [
    {
     "name": "stdout",
     "output_type": "stream",
     "text": [
      "count of null values\n",
      "4845\n",
      "carat                                  1510\n",
      "cut                                    1293\n",
      "color                                  1512\n",
      "clarity                                 353\n",
      "average us salary                         0\n",
      "number of diamonds mined (millions)       0\n",
      "depth                                   694\n",
      "table                                  1542\n",
      "price                                  1583\n",
      "x                                      1526\n",
      "y                                      1221\n",
      "z                                      1433\n",
      "dtype: int64\n",
      "   carat        cut color clarity  average us salary  \\\n",
      "0   0.23      IDEAL     E     SI2              31282   \n",
      "1   0.21    PREMIUM     E     SI1              40049   \n",
      "2   0.23       GOOD     E     VS1              33517   \n",
      "3   0.29    PREMIUM     I     VS2              38495   \n",
      "4   0.31       GOOD     J     SI2              34178   \n",
      "5   0.24  VERY GOOD     J    VVS2              44700   \n",
      "6   0.24  VERY GOOD     I    VVS1              42939   \n",
      "7   0.23      IDEAL     H     SI1              37587   \n",
      "8   0.22       FAIR     E     VS2              30454   \n",
      "9   0.23  VERY GOOD     H     VS1              45506   \n",
      "\n",
      "   number of diamonds mined (millions)  depth  table  price     x     y     z  \n",
      "0                                 5.01   61.5   55.0  326.0  3.95  3.98  2.43  \n",
      "1                                 1.69   59.8   61.0  326.0  3.89  3.84  2.31  \n",
      "2                                 3.85   56.9   65.0  327.0  4.05  4.07  2.31  \n",
      "3                                 3.49   62.4   58.0  334.0  4.20  4.23  2.63  \n",
      "4                                 4.70   63.3   58.0  335.0  4.34  4.35  2.75  \n",
      "5                                 0.86   62.8   57.0  336.0  3.94  3.96  2.48  \n",
      "6                                 1.68   62.3   57.0  336.0  3.95  3.98  2.47  \n",
      "7                                 4.62   63.7   59.0  336.5  4.07  4.11  2.53  \n",
      "8                                 4.02   65.1   61.0  337.0  3.87  3.78  2.49  \n",
      "9                                 1.20   59.4   61.0  338.0  4.00  4.05  2.39  \n"
     ]
    }
   ],
   "source": [
    "#Reading Dataset\n",
    "df=pd.read_csv(r'/Users/adarshreddy/Downloads/noisy_datasets/diamond.csv')\n",
    "df.drop('Unnamed: 0', axis=1, inplace=True)\n",
    "categorical=[\"cut\",\"color\",\"clarity\"]\n",
    "\n",
    "#checking rows with null values\n",
    "print(\"count of null values\")\n",
    "rows_with_null = df.isnull().sum(axis=1)\n",
    "print(len(rows_with_null[rows_with_null > 0]))\n",
    "\n",
    "mis_values = (df.isnull().sum())\n",
    "print(mis_values)\n",
    "\n",
    "#changing datatypes of numerical columns\n",
    "for c in df.columns:\n",
    "    if df[c].dtype==\"object\" and c not in categorical:\n",
    "        df[c]=pd.to_numeric(df[c],errors='coerce')\n",
    "        \n",
    "#getting numerical columns\n",
    "num_cols = df.select_dtypes(include=['float64', 'int64']).columns\n",
    "\n",
    "#using interploate method to replace null values to retian the linear properties\n",
    "for c in num_cols:\n",
    "    df[c] = pd.to_numeric(df[c], errors='coerce')\n",
    "    df[c] = df[c].interpolate(method='linear')\n",
    "\n",
    "    \n",
    "#replacing null values in categorical columns with mode.\n",
    "modes=df[categorical].mode().iloc[0]\n",
    "\n",
    "for i in categorical:\n",
    "    df[i]=df[i].fillna(modes[i])\n",
    "    \n",
    "#handling case senstivity\n",
    "\n",
    "def upperCase(y):\n",
    "  return  str(y).upper()\n",
    "df[\"clarity\"]=df[\"clarity\"].apply(upperCase)\n",
    "\n",
    "def upperCase(x):\n",
    "  return  str(x).upper()\n",
    "df[\"cut\"]=df[\"cut\"].apply(upperCase)\n",
    "\n",
    "def upperCase(z):\n",
    "  return  str(z).upper()\n",
    "df[\"color\"]=df[\"color\"].apply(upperCase)\n",
    "\n",
    "\n",
    "df_clarity = df[-df['clarity'].astype(str).str.lower().isin(['true', 'false','maybe'])]\n",
    "df_cut = df[-df['cut'].astype(str).str.lower().isin(['true', 'false','maybe'])]\n",
    "df_color = df[-df['color'].astype(str).str.lower().isin(['true', 'false','maybe'])]\n",
    "\n",
    "\n",
    "df['clarity'] = df_clarity['clarity']\n",
    "df['cut'] = df_cut['cut']\n",
    "df['color'] = df_color['color']\n",
    "df=df.dropna()\n",
    "\n",
    "\n",
    "print(df.head(10))"
   ]
  },
  {
   "cell_type": "markdown",
   "metadata": {},
   "source": [
    "**Handling outliers**"
   ]
  },
  {
   "cell_type": "code",
   "execution_count": 24,
   "metadata": {},
   "outputs": [
    {
     "data": {
      "image/png": "[encoded data removed]",
      "text/plain": [
       "<Figure size 432x288 with 1 Axes>"
      ]
     },
     "metadata": {
      "needs_background": "light"
     },
     "output_type": "display_data"
    },
    {
     "data": {
      "image/png": "[encoded data removed]",
      "text/plain": [
       "<Figure size 432x288 with 1 Axes>"
      ]
     },
     "metadata": {
      "needs_background": "light"
     },
     "output_type": "display_data"
    },
    {
     "data": {
      "image/png": "[encoded data removed]",
      "text/plain": [
       "<Figure size 432x288 with 1 Axes>"
      ]
     },
     "metadata": {
      "needs_background": "light"
     },
     "output_type": "display_data"
    },
    {
     "data": {
      "image/png": "[encoded data removed]",
      "text/plain": [
       "<Figure size 432x288 with 1 Axes>"
      ]
     },
     "metadata": {
      "needs_background": "light"
     },
     "output_type": "display_data"
    },
    {
     "data": {
      "image/png": "[encoded data removed]",
      "text/plain": [
       "<Figure size 432x288 with 1 Axes>"
      ]
     },
     "metadata": {
      "needs_background": "light"
     },
     "output_type": "display_data"
    },
    {
     "data": {
      "image/png": "[encoded data removed]",
      "text/plain": [
       "<Figure size 432x288 with 1 Axes>"
      ]
     },
     "metadata": {
      "needs_background": "light"
     },
     "output_type": "display_data"
    },
    {
     "data": {
      "image/png": "[encoded data removed]",
      "text/plain": [
       "<Figure size 432x288 with 1 Axes>"
      ]
     },
     "metadata": {
      "needs_background": "light"
     },
     "output_type": "display_data"
    },
    {
     "data": {
      "image/png": "[encoded data removed]",
      "text/plain": [
       "<Figure size 432x288 with 1 Axes>"
      ]
     },
     "metadata": {
      "needs_background": "light"
     },
     "output_type": "display_data"
    },
    {
     "data": {
      "image/png": "[encoded data removed]",
      "text/plain": [
       "<Figure size 432x288 with 1 Axes>"
      ]
     },
     "metadata": {
      "needs_background": "light"
     },
     "output_type": "display_data"
    }
   ],
   "source": [
    "#handling outliers with conditional statments\n",
    "\n",
    "mean=df[num_cols].mean()\n",
    "\n",
    "df['carat']=np.where(df['carat']>=1.8,mean[0],df['carat'])\n",
    "df['depth']=np.where((df['depth']>63.9) | (df['depth']<60),mean[3],df['depth'])\n",
    "df['table']=np.where((df['table']>62) | (df['table']<54),mean[4],df['table'])\n",
    "df['price']=np.where((df['price']>4000) & (df['price']>100),mean[5],df['price'])\n",
    "df['x']=np.where((df['x']>9) | (df['x']<2),mean[6],df['x'])\n",
    "df['y']=np.where((df['y']>7) | (df['y']<4),mean[7],df['y'])\n",
    "df['z']=np.where((df['z']>5) | (df['z']<2),mean[8],df['z'])\n",
    "\n",
    "for i in num_cols:\n",
    "    plt.boxplot(df[i])\n",
    "    plt.show()"
   ]
  },
  {
   "cell_type": "code",
   "execution_count": 25,
   "metadata": {},
   "outputs": [
    {
     "data": {
      "text/plain": [
       "carat                                      0.741272\n",
       "average us salary                      39506.756430\n",
       "number of diamonds mined (millions)        2.901581\n",
       "depth                                     61.876647\n",
       "table                                     57.375321\n",
       "price                                   2414.448805\n",
       "x                                          5.727417\n",
       "y                                          5.492144\n",
       "z                                          3.495058\n",
       "dtype: float64"
      ]
     },
     "metadata": {},
     "output_type": "display_data"
    },
    {
     "data": {
      "text/plain": [
       "carat                                      0.700000\n",
       "average us salary                      39528.000000\n",
       "number of diamonds mined (millions)        2.910000\n",
       "depth                                     61.750222\n",
       "table                                     57.000000\n",
       "price                                   2398.000000\n",
       "x                                          5.700000\n",
       "y                                          5.720000\n",
       "z                                          3.530000\n",
       "dtype: float64"
      ]
     },
     "metadata": {},
     "output_type": "display_data"
    },
    {
     "data": {
      "text/html": [
       "<div>\n",
       "<style scoped>\n",
       "    .dataframe tbody tr th:only-of-type {\n",
       "        vertical-align: middle;\n",
       "    }\n",
       "\n",
       "    .dataframe tbody tr th {\n",
       "        vertical-align: top;\n",
       "    }\n",
       "\n",
       "    .dataframe thead th {\n",
       "        text-align: right;\n",
       "    }\n",
       "</style>\n",
       "<table border=\"1\" class=\"dataframe\">\n",
       "  <thead>\n",
       "    <tr style=\"text-align: right;\">\n",
       "      <th></th>\n",
       "      <th>cut</th>\n",
       "      <th>color</th>\n",
       "      <th>clarity</th>\n",
       "    </tr>\n",
       "  </thead>\n",
       "  <tbody>\n",
       "    <tr>\n",
       "      <td>0</td>\n",
       "      <td>IDEAL</td>\n",
       "      <td>G</td>\n",
       "      <td>SI1</td>\n",
       "    </tr>\n",
       "  </tbody>\n",
       "</table>\n",
       "</div>"
      ],
      "text/plain": [
       "     cut color clarity\n",
       "0  IDEAL     G     SI1"
      ]
     },
     "metadata": {},
     "output_type": "display_data"
    },
    {
     "data": {
      "text/plain": [
       "carat                                      0.20\n",
       "average us salary                      30000.00\n",
       "number of diamonds mined (millions)        0.60\n",
       "depth                                     60.00\n",
       "table                                     54.00\n",
       "price                                    326.00\n",
       "x                                          3.73\n",
       "y                                          4.00\n",
       "z                                          2.01\n",
       "dtype: float64"
      ]
     },
     "metadata": {},
     "output_type": "display_data"
    },
    {
     "data": {
      "text/plain": [
       "carat                                      1.79\n",
       "average us salary                      48999.00\n",
       "number of diamonds mined (millions)        5.20\n",
       "depth                                     63.90\n",
       "table                                     62.00\n",
       "price                                   4000.00\n",
       "x                                          8.99\n",
       "y                                          7.00\n",
       "z                                          5.00\n",
       "dtype: float64"
      ]
     },
     "metadata": {},
     "output_type": "display_data"
    },
    {
     "data": {
      "text/plain": [
       "carat                                      0.40\n",
       "average us salary                      34761.00\n",
       "number of diamonds mined (millions)        1.75\n",
       "depth                                     61.40\n",
       "table                                     56.00\n",
       "price                                    949.00\n",
       "x                                          4.71\n",
       "y                                          4.74\n",
       "z                                          2.91\n",
       "Name: 0.25, dtype: float64"
      ]
     },
     "metadata": {},
     "output_type": "display_data"
    },
    {
     "data": {
      "text/plain": [
       "carat                                      0.700000\n",
       "average us salary                      39528.000000\n",
       "number of diamonds mined (millions)        2.910000\n",
       "depth                                     61.750222\n",
       "table                                     57.000000\n",
       "price                                   2398.000000\n",
       "x                                          5.700000\n",
       "y                                          5.720000\n",
       "z                                          3.530000\n",
       "Name: 0.5, dtype: float64"
      ]
     },
     "metadata": {},
     "output_type": "display_data"
    },
    {
     "data": {
      "text/plain": [
       "carat                                      1.010000\n",
       "average us salary                      44229.000000\n",
       "number of diamonds mined (millions)        4.050000\n",
       "depth                                     62.400000\n",
       "table                                     59.000000\n",
       "price                                   3928.816447\n",
       "x                                          6.540000\n",
       "y                                          6.160000\n",
       "z                                          4.010000\n",
       "Name: 0.75, dtype: float64"
      ]
     },
     "metadata": {},
     "output_type": "display_data"
    },
    {
     "name": "stdout",
     "output_type": "stream",
     "text": [
      "carat                                    395\n",
      "cut                                        5\n",
      "color                                      7\n",
      "clarity                                    8\n",
      "average us salary                      17613\n",
      "number of diamonds mined (millions)      461\n",
      "depth                                    144\n",
      "table                                    117\n",
      "price                                   3562\n",
      "x                                        963\n",
      "y                                        545\n",
      "z                                        600\n",
      "dtype: int64\n"
     ]
    },
    {
     "data": {
      "text/plain": [
       "carat                                     0.380610\n",
       "average us salary                      5485.550030\n",
       "number of diamonds mined (millions)       1.326515\n",
       "depth                                     0.827981\n",
       "table                                     1.898587\n",
       "price                                  1381.784607\n",
       "x                                         1.113207\n",
       "y                                         0.808487\n",
       "z                                         0.635378\n",
       "dtype: float64"
      ]
     },
     "metadata": {},
     "output_type": "display_data"
    }
   ],
   "source": [
    "#Key statistics\n",
    "\n",
    "df_numerical=num_cols\n",
    "\n",
    "#Mean\n",
    "mean=df[df_numerical].mean()\n",
    "display(mean)\n",
    "\n",
    "#Median\n",
    "median=df[df_numerical].median()\n",
    "display(median)\n",
    "\n",
    "#Mode\n",
    "cat_cols=['cut','color','clarity']\n",
    "mode=df[cat_cols].mode()\n",
    "display(mode)\n",
    "\n",
    "#min and max\n",
    "min_values=df[df_numerical].min()\n",
    "max_values=df[df_numerical].max()\n",
    "display(min_values)\n",
    "display(max_values)\n",
    "\n",
    "#quartiles\n",
    "\n",
    "display(df[num_cols].quantile(0.25))\n",
    "display(df[num_cols].quantile(0.50))\n",
    "display(df[num_cols].quantile(0.75))\n",
    "\n",
    "\n",
    "#counts\n",
    "print(df.nunique())\n",
    "\n",
    "\n",
    "#standard deviation\n",
    "deviation=df[df_numerical].std()\n",
    "display(deviation)"
   ]
  },
  {
   "cell_type": "markdown",
   "metadata": {},
   "source": [
    "**visualization graphs**"
   ]
  },
  {
   "cell_type": "code",
   "execution_count": 26,
   "metadata": {},
   "outputs": [
    {
     "data": {
      "image/png": "[encoded data removed]",
      "text/plain": [
       "<Figure size 432x288 with 1 Axes>"
      ]
     },
     "metadata": {
      "needs_background": "light"
     },
     "output_type": "display_data"
    }
   ],
   "source": [
    "#plot 1\n",
    "sns.countplot(x='cut', data=df)\n",
    "plt.xlabel('cut_type')\n",
    "plt.xticks(rotation=90)\n",
    "plt.ylabel('Count of each cut')\n",
    "plt.title('Number of each cuts')\n",
    "plt.grid(axis='y',alpha=0.2)\n",
    "plt.show()"
   ]
  },
  {
   "cell_type": "code",
   "execution_count": 27,
   "metadata": {},
   "outputs": [
    {
     "data": {
      "image/png": "[encoded data removed]",
      "text/plain": [
       "<Figure size 432x288 with 1 Axes>"
      ]
     },
     "metadata": {
      "needs_background": "light"
     },
     "output_type": "display_data"
    }
   ],
   "source": [
    "#plot 2\n",
    "sns.boxplot(x='table', data=df)\n",
    "plt.xlabel('table')\n",
    "plt.title('table')\n",
    "plt.show()"
   ]
  },
  {
   "cell_type": "code",
   "execution_count": 28,
   "metadata": {},
   "outputs": [
    {
     "data": {
      "image/png": "[encoded data removed]",
      "text/plain": [
       "<Figure size 576x432 with 1 Axes>"
      ]
     },
     "metadata": {
      "needs_background": "light"
     },
     "output_type": "display_data"
    }
   ],
   "source": [
    "#plot 3\n",
    "plt.figure(figsize=(8, 6))\n",
    "sns.violinplot(x='cut', y='depth', data=df, palette='Set2')\n",
    "plt.xlabel('Cut')\n",
    "plt.ylabel('Depth')\n",
    "plt.title('Plot of Depth, Cut')\n",
    "plt.show()"
   ]
  },
  {
   "cell_type": "code",
   "execution_count": 29,
   "metadata": {},
   "outputs": [
    {
     "data": {
      "image/png": "[encoded data removed]",
      "text/plain": [
       "<Figure size 576x432 with 1 Axes>"
      ]
     },
     "metadata": {
      "needs_background": "light"
     },
     "output_type": "display_data"
    }
   ],
   "source": [
    "#plot 4\n",
    "plt.figure(figsize=(8, 6))\n",
    "plt.hist(df['depth'], bins=15, edgecolor='black', alpha=0.7)\n",
    "plt.xlabel('Depth')\n",
    "plt.ylabel('Frequency')\n",
    "plt.title('Distribution of Depth')\n",
    "plt.grid(axis='y', alpha=0.75)\n",
    "plt.show()"
   ]
  },
  {
   "cell_type": "code",
   "execution_count": 30,
   "metadata": {},
   "outputs": [
    {
     "data": {
      "image/png": "[encoded data removed]",
      "text/plain": [
       "<Figure size 432x288 with 1 Axes>"
      ]
     },
     "metadata": {
      "needs_background": "light"
     },
     "output_type": "display_data"
    }
   ],
   "source": [
    "sns.countplot(y='clarity', data=df)\n",
    "plt.ylabel('clarity')\n",
    "plt.grid(axis='x',alpha=0.2)\n",
    "plt.xlabel('Count of each clarity ')\n",
    "plt.title('Number of each clarity')\n",
    "plt.show()"
   ]
  },
  {
   "cell_type": "markdown",
   "metadata": {},
   "source": [
    "**corelation matrix**"
   ]
  },
  {
   "cell_type": "code",
   "execution_count": 31,
   "metadata": {},
   "outputs": [
    {
     "name": "stdout",
     "output_type": "stream",
     "text": [
      "                                        carat  average us salary  \\\n",
      "carat                                1.000000           0.005387   \n",
      "average us salary                    0.005387           1.000000   \n",
      "number of diamonds mined (millions) -0.004974          -0.000162   \n",
      "depth                                0.036328          -0.000557   \n",
      "table                                0.171174           0.000903   \n",
      "price                                0.891388           0.002020   \n",
      "x                                    0.887121           0.005571   \n",
      "y                                    0.799114          -0.000840   \n",
      "z                                    0.948609           0.003664   \n",
      "\n",
      "                                     number of diamonds mined (millions)  \\\n",
      "carat                                                          -0.004974   \n",
      "average us salary                                              -0.000162   \n",
      "number of diamonds mined (millions)                             1.000000   \n",
      "depth                                                           0.003998   \n",
      "table                                                          -0.005804   \n",
      "price                                                          -0.006803   \n",
      "x                                                              -0.009976   \n",
      "y                                                              -0.000345   \n",
      "z                                                              -0.006428   \n",
      "\n",
      "                                        depth     table     price         x  \\\n",
      "carat                                0.036328  0.171174  0.891388  0.887121   \n",
      "average us salary                   -0.000557  0.000903  0.002020  0.005571   \n",
      "number of diamonds mined (millions)  0.003998 -0.005804 -0.006803 -0.009976   \n",
      "depth                                1.000000 -0.130142  0.032838  0.005008   \n",
      "table                               -0.130142  1.000000  0.170833  0.189091   \n",
      "price                                0.032838  0.170833  1.000000  0.917482   \n",
      "x                                    0.005008  0.189091  0.917482  1.000000   \n",
      "y                                    0.014804  0.159627  0.901485  0.793231   \n",
      "z                                    0.060958  0.159798  0.919262  0.923737   \n",
      "\n",
      "                                            y         z  \n",
      "carat                                0.799114  0.948609  \n",
      "average us salary                   -0.000840  0.003664  \n",
      "number of diamonds mined (millions) -0.000345 -0.006428  \n",
      "depth                                0.014804  0.060958  \n",
      "table                                0.159627  0.159798  \n",
      "price                                0.901485  0.919262  \n",
      "x                                    0.793231  0.923737  \n",
      "y                                    1.000000  0.834523  \n",
      "z                                    0.834523  1.000000  \n"
     ]
    },
    {
     "data": {
      "image/png": "[encoded data removed]",
      "text/plain": [
       "<Figure size 432x288 with 2 Axes>"
      ]
     },
     "metadata": {
      "needs_background": "light"
     },
     "output_type": "display_data"
    }
   ],
   "source": [
    "#Finding correlation\n",
    "import seaborn as sns\n",
    "import matplotlib.pyplot as plt\n",
    "\n",
    "corr=df.corr()\n",
    "print(corr)\n",
    "  \n",
    "sns.heatmap(corr)\n",
    "plt.title('Correlation Heatmap')\n",
    "plt.show()\n",
    "\n",
    "#after checking the correlation we oberseve that number of diamonds mined (millions),average us salary ,\n",
    "#number of diamonds mined (millions) abd depth have low correlation with carat which is our target variable."
   ]
  },
  {
   "cell_type": "markdown",
   "metadata": {},
   "source": [
    "**Convert features with string datatype to categorical using Onehotencoding**"
   ]
  },
  {
   "cell_type": "code",
   "execution_count": 32,
   "metadata": {},
   "outputs": [],
   "source": [
    "df=pd.get_dummies(df, columns = ['cut','color','clarity'])"
   ]
  },
  {
   "cell_type": "markdown",
   "metadata": {},
   "source": [
    "**Normalization**"
   ]
  },
  {
   "cell_type": "code",
   "execution_count": 33,
   "metadata": {},
   "outputs": [],
   "source": [
    "n_col= [\"average us salary\",\"number of diamonds mined (millions)\",\"depth\",\"table\",\"price\",\"x\",\"y\",\"z\"]\n",
    "for val in n_col:\n",
    "    min_val=df[val].min()\n",
    "    max_val=df[val].max()\n",
    "    df[val]=(df[val]-min_val)/(max_val-min_val)"
   ]
  },
  {
   "cell_type": "code",
   "execution_count": 34,
   "metadata": {},
   "outputs": [],
   "source": [
    "#dropping columns\n",
    "df= df.drop([\"average us salary\",\"number of diamonds mined (millions)\"], axis=1)"
   ]
  },
  {
   "cell_type": "code",
   "execution_count": 35,
   "metadata": {},
   "outputs": [],
   "source": [
    "df.to_csv(r\"/Users/adarshreddy/Desktop/Assignments/ML/adarshre_dharmaac_assignment1_final/diamond_preprocessed.csv\",index=False)"
   ]
  },
  {
   "cell_type": "markdown",
   "metadata": {},
   "source": [
    "**References**\n",
    "#https://seaborn.pydata.org/\n",
    "#https://numpy.org/doc/stable/reference/arrays.html"
   ]
  },
  {
   "cell_type": "markdown",
   "metadata": {},
   "source": [
    "**Contribution**\n",
    "\n",
    "1.Adarsh Reddy Bandaru\n",
    "Assignment Part 1 - 50\n",
    "\n",
    "2.Dharma Acha \n",
    "Assignment Part 1 - 50"
   ]
  }
 ],
 "metadata": {
  "kernelspec": {
   "display_name": "Python 3",
   "language": "python",
   "name": "python3"
  },
  "language_info": {
   "codemirror_mode": {
    "name": "ipython",
    "version": 3
   },
   "file_extension": ".py",
   "mimetype": "text/x-python",
   "name": "python",
   "nbconvert_exporter": "python",
   "pygments_lexer": "ipython3",
   "version": "3.7.4"
  }
 },
 "nbformat": 4,
 "nbformat_minor": 2
}
